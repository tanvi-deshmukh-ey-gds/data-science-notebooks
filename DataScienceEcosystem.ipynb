{
 "cells": [
  {
   "cell_type": "markdown",
   "id": "ed70b5f4-9588-428a-9ac2-95aea21083c3",
   "metadata": {},
   "source": [
    "# Data Science Tools and Ecosystem"
   ]
  },
  {
   "cell_type": "markdown",
   "id": "214f88ad-6073-4511-8849-5e58c60ce63b",
   "metadata": {},
   "source": [
    "In this notebook, Data Science Tools and Ecosystem are summarized."
   ]
  },
  {
   "cell_type": "markdown",
   "id": "89396d37-9cc0-4854-ac77-1eed43dcb587",
   "metadata": {},
   "source": [
    "Some of the popular languages that Data Scientists use are:\n",
    "<ol>\n",
    "    <li>Python</li>\n",
    "    <li>R</li>\n",
    "    <li>SQL</li>\n",
    "</ol>"
   ]
  },
  {
   "cell_type": "markdown",
   "id": "6514e6bd-f17c-4168-9525-c0fb36c5951e",
   "metadata": {},
   "source": [
    "Some of the commonly used libraries used by Data Scientists include:\n",
    "<ol>\n",
    "    <li>Numpy</li>\n",
    "    <li>Pandas</li>\n",
    "    <li>Matplotlib</li>\n",
    "    <li>Seaborn</li>\n",
    "    <li>Scikit-learn</li>\n",
    "</ol>"
   ]
  },
  {
   "cell_type": "markdown",
   "id": "e06b71d5-2caf-46cf-9bd9-f75f3fdc8ab0",
   "metadata": {},
   "source": [
    "| Data Science Tools |\n",
    "|--------------------|\n",
    "| JupyterLab         |\n",
    "| RStudio            |\n",
    "| VS Code (with Python extensions) |"
   ]
  },
  {
   "cell_type": "markdown",
   "id": "bdd85793-37f6-4f42-ad1e-ded74a3a6189",
   "metadata": {},
   "source": [
    "### Below are a few examples of evaluating arithmetic expressions in Python.\n",
    "\n",
    "This cell demonstrates basic arithmetic operations in Python:  \n",
    "- Addition (`+`): `3 + 5` evaluates to `8`  \n",
    "- Subtraction (`-`): `10 - 4` evaluates to `6`  \n",
    "- Multiplication (`*`): `2 * 6` evaluates to `12`  \n",
    "- Division (`/`): `15 / 3` evaluates to `5.0` (returns a float)  \n",
    "- Exponentiation (`**`): `4 ** 2` evaluates to `16`  \n",
    "- Modulo (`%`): `10 % 3` evaluates to `1` (remainder of division)  "
   ]
  },
  {
   "cell_type": "code",
   "execution_count": 7,
   "id": "13948d2d-1a0b-4f36-bf9d-b7e973825958",
   "metadata": {},
   "outputs": [
    {
     "data": {
      "text/plain": [
       "17"
      ]
     },
     "execution_count": 7,
     "metadata": {},
     "output_type": "execute_result"
    }
   ],
   "source": [
    "# This is a simple arithmetic expression to multiply then add integers\n",
    "(3 * 4) + 5"
   ]
  },
  {
   "cell_type": "code",
   "execution_count": 8,
   "id": "9df1b52f-7444-4ed7-800f-04ce2faf6319",
   "metadata": {},
   "outputs": [
    {
     "data": {
      "text/plain": [
       "3.3333333333333335"
      ]
     },
     "execution_count": 8,
     "metadata": {},
     "output_type": "execute_result"
    }
   ],
   "source": [
    "# This will convert 200 minutes to hours by dividing by 60\n",
    "200 / 60"
   ]
  },
  {
   "cell_type": "markdown",
   "id": "2d3779a2-142b-45c4-bf38-a1543c9e6d37",
   "metadata": {},
   "source": [
    "**Objectives:**  \n",
    "- List popular languages for Data Science.  \n",
    "- Introduce common libraries and tools used in Data Science.  \n",
    "- Demonstrate basic arithmetic operations in Python.  \n",
    "- Create and format tables and lists in Jupyter notebooks.  \n",
    "- Convert units (e.g., minutes to hours) using Python expressions.  "
   ]
  },
  {
   "cell_type": "markdown",
   "id": "645d6ca4-d3e8-4766-bfa0-267fe743a1ee",
   "metadata": {},
   "source": [
    "## Author  \n",
    "Tanvi Deshmukh"
   ]
  }
 ],
 "metadata": {
  "kernelspec": {
   "display_name": "Python 3 (ipykernel)",
   "language": "python",
   "name": "python3"
  },
  "language_info": {
   "codemirror_mode": {
    "name": "ipython",
    "version": 3
   },
   "file_extension": ".py",
   "mimetype": "text/x-python",
   "name": "python",
   "nbconvert_exporter": "python",
   "pygments_lexer": "ipython3",
   "version": "3.12.8"
  }
 },
 "nbformat": 4,
 "nbformat_minor": 5
}
